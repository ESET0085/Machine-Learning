{
 "cells": [
  {
   "cell_type": "code",
   "execution_count": 4,
   "id": "e86e2055",
   "metadata": {},
   "outputs": [],
   "source": [
    "import numpy as np\n",
    "import pandas as pd"
   ]
  },
  {
   "cell_type": "code",
   "execution_count": 5,
   "id": "3b0fa542",
   "metadata": {},
   "outputs": [
    {
     "data": {
      "text/html": [
       "<div>\n",
       "<style scoped>\n",
       "    .dataframe tbody tr th:only-of-type {\n",
       "        vertical-align: middle;\n",
       "    }\n",
       "\n",
       "    .dataframe tbody tr th {\n",
       "        vertical-align: top;\n",
       "    }\n",
       "\n",
       "    .dataframe thead th {\n",
       "        text-align: right;\n",
       "    }\n",
       "</style>\n",
       "<table border=\"1\" class=\"dataframe\">\n",
       "  <thead>\n",
       "    <tr style=\"text-align: right;\">\n",
       "      <th></th>\n",
       "      <th>brand_name</th>\n",
       "      <th>pants_description</th>\n",
       "      <th>price</th>\n",
       "      <th>MRP</th>\n",
       "      <th>discount_percent</th>\n",
       "      <th>ratings</th>\n",
       "      <th>number_of_ratings</th>\n",
       "    </tr>\n",
       "  </thead>\n",
       "  <tbody>\n",
       "    <tr>\n",
       "      <th>0</th>\n",
       "      <td>WROGN</td>\n",
       "      <td>Men Loose Fit Cotton Jeans</td>\n",
       "      <td>1374.0</td>\n",
       "      <td>2499.0</td>\n",
       "      <td>0.45</td>\n",
       "      <td>4.2</td>\n",
       "      <td>57.0</td>\n",
       "    </tr>\n",
       "    <tr>\n",
       "      <th>1</th>\n",
       "      <td>Flying Machine</td>\n",
       "      <td>Men Slim Fit Jeans</td>\n",
       "      <td>1829.0</td>\n",
       "      <td>2999.0</td>\n",
       "      <td>0.39</td>\n",
       "      <td>4.6</td>\n",
       "      <td>5.0</td>\n",
       "    </tr>\n",
       "    <tr>\n",
       "      <th>2</th>\n",
       "      <td>Roadster</td>\n",
       "      <td>Men Pure Cotton Jeans</td>\n",
       "      <td>974.0</td>\n",
       "      <td>2499.0</td>\n",
       "      <td>0.61</td>\n",
       "      <td>3.6</td>\n",
       "      <td>1100.0</td>\n",
       "    </tr>\n",
       "    <tr>\n",
       "      <th>3</th>\n",
       "      <td>Bene Kleed</td>\n",
       "      <td>Relaxed Fit Denim Jeans</td>\n",
       "      <td>873.0</td>\n",
       "      <td>2299.0</td>\n",
       "      <td>0.62</td>\n",
       "      <td>4.0</td>\n",
       "      <td>4800.0</td>\n",
       "    </tr>\n",
       "    <tr>\n",
       "      <th>4</th>\n",
       "      <td>Levis</td>\n",
       "      <td>Men 511 Slim Fit Jeans</td>\n",
       "      <td>1478.0</td>\n",
       "      <td>2899.0</td>\n",
       "      <td>0.49</td>\n",
       "      <td>4.3</td>\n",
       "      <td>264.0</td>\n",
       "    </tr>\n",
       "    <tr>\n",
       "      <th>...</th>\n",
       "      <td>...</td>\n",
       "      <td>...</td>\n",
       "      <td>...</td>\n",
       "      <td>...</td>\n",
       "      <td>...</td>\n",
       "      <td>...</td>\n",
       "      <td>...</td>\n",
       "    </tr>\n",
       "    <tr>\n",
       "      <th>52115</th>\n",
       "      <td>Pepe Jeans</td>\n",
       "      <td>Men Slim Fit Jeans</td>\n",
       "      <td>759.0</td>\n",
       "      <td>1899.0</td>\n",
       "      <td>0.60</td>\n",
       "      <td>4.0</td>\n",
       "      <td>63.0</td>\n",
       "    </tr>\n",
       "    <tr>\n",
       "      <th>52116</th>\n",
       "      <td>HERE&amp;NOW</td>\n",
       "      <td>Men Slim Fit Jeans</td>\n",
       "      <td>759.0</td>\n",
       "      <td>1899.0</td>\n",
       "      <td>0.60</td>\n",
       "      <td>4.0</td>\n",
       "      <td>63.0</td>\n",
       "    </tr>\n",
       "    <tr>\n",
       "      <th>52117</th>\n",
       "      <td>Pepe Jeans</td>\n",
       "      <td>Men Slim Fit Jeans</td>\n",
       "      <td>759.0</td>\n",
       "      <td>1899.0</td>\n",
       "      <td>0.60</td>\n",
       "      <td>4.0</td>\n",
       "      <td>63.0</td>\n",
       "    </tr>\n",
       "    <tr>\n",
       "      <th>52118</th>\n",
       "      <td>Celio</td>\n",
       "      <td>Men Straight Fit Jeans</td>\n",
       "      <td>759.0</td>\n",
       "      <td>1899.0</td>\n",
       "      <td>0.60</td>\n",
       "      <td>4.0</td>\n",
       "      <td>63.0</td>\n",
       "    </tr>\n",
       "    <tr>\n",
       "      <th>52119</th>\n",
       "      <td>Pepe Jeans</td>\n",
       "      <td>Men Slim Fit Jeans</td>\n",
       "      <td>759.0</td>\n",
       "      <td>1899.0</td>\n",
       "      <td>0.60</td>\n",
       "      <td>4.0</td>\n",
       "      <td>63.0</td>\n",
       "    </tr>\n",
       "  </tbody>\n",
       "</table>\n",
       "<p>52120 rows × 7 columns</p>\n",
       "</div>"
      ],
      "text/plain": [
       "           brand_name           pants_description   price     MRP  \\\n",
       "0               WROGN  Men Loose Fit Cotton Jeans  1374.0  2499.0   \n",
       "1      Flying Machine          Men Slim Fit Jeans  1829.0  2999.0   \n",
       "2            Roadster       Men Pure Cotton Jeans   974.0  2499.0   \n",
       "3          Bene Kleed     Relaxed Fit Denim Jeans   873.0  2299.0   \n",
       "4               Levis      Men 511 Slim Fit Jeans  1478.0  2899.0   \n",
       "...               ...                         ...     ...     ...   \n",
       "52115      Pepe Jeans          Men Slim Fit Jeans   759.0  1899.0   \n",
       "52116        HERE&NOW          Men Slim Fit Jeans   759.0  1899.0   \n",
       "52117      Pepe Jeans          Men Slim Fit Jeans   759.0  1899.0   \n",
       "52118           Celio      Men Straight Fit Jeans   759.0  1899.0   \n",
       "52119      Pepe Jeans          Men Slim Fit Jeans   759.0  1899.0   \n",
       "\n",
       "       discount_percent  ratings  number_of_ratings  \n",
       "0                  0.45      4.2               57.0  \n",
       "1                  0.39      4.6                5.0  \n",
       "2                  0.61      3.6             1100.0  \n",
       "3                  0.62      4.0             4800.0  \n",
       "4                  0.49      4.3              264.0  \n",
       "...                 ...      ...                ...  \n",
       "52115              0.60      4.0               63.0  \n",
       "52116              0.60      4.0               63.0  \n",
       "52117              0.60      4.0               63.0  \n",
       "52118              0.60      4.0               63.0  \n",
       "52119              0.60      4.0               63.0  \n",
       "\n",
       "[52120 rows x 7 columns]"
      ]
     },
     "execution_count": 5,
     "metadata": {},
     "output_type": "execute_result"
    }
   ],
   "source": [
    "df=pd.read_csv('myntra_dataset.csv')\n",
    "df\n"
   ]
  },
  {
   "cell_type": "code",
   "execution_count": 6,
   "id": "7dfb6cb8",
   "metadata": {},
   "outputs": [
    {
     "data": {
      "text/plain": [
       "(52120, 7)"
      ]
     },
     "execution_count": 6,
     "metadata": {},
     "output_type": "execute_result"
    }
   ],
   "source": [
    "df.shape"
   ]
  },
  {
   "cell_type": "code",
   "execution_count": 7,
   "id": "ba3b8232",
   "metadata": {},
   "outputs": [
    {
     "name": "stdout",
     "output_type": "stream",
     "text": [
      "<class 'pandas.core.frame.DataFrame'>\n",
      "RangeIndex: 52120 entries, 0 to 52119\n",
      "Data columns (total 7 columns):\n",
      " #   Column             Non-Null Count  Dtype  \n",
      "---  ------             --------------  -----  \n",
      " 0   brand_name         52120 non-null  object \n",
      " 1   pants_description  52120 non-null  object \n",
      " 2   price              52120 non-null  float64\n",
      " 3   MRP                52120 non-null  float64\n",
      " 4   discount_percent   52120 non-null  float64\n",
      " 5   ratings            52120 non-null  float64\n",
      " 6   number_of_ratings  52120 non-null  float64\n",
      "dtypes: float64(5), object(2)\n",
      "memory usage: 2.8+ MB\n"
     ]
    }
   ],
   "source": [
    "df.info()"
   ]
  },
  {
   "cell_type": "code",
   "execution_count": 8,
   "id": "7f735599",
   "metadata": {},
   "outputs": [
    {
     "data": {
      "text/html": [
       "<div>\n",
       "<style scoped>\n",
       "    .dataframe tbody tr th:only-of-type {\n",
       "        vertical-align: middle;\n",
       "    }\n",
       "\n",
       "    .dataframe tbody tr th {\n",
       "        vertical-align: top;\n",
       "    }\n",
       "\n",
       "    .dataframe thead th {\n",
       "        text-align: right;\n",
       "    }\n",
       "</style>\n",
       "<table border=\"1\" class=\"dataframe\">\n",
       "  <thead>\n",
       "    <tr style=\"text-align: right;\">\n",
       "      <th></th>\n",
       "      <th>name</th>\n",
       "      <th>pants_description</th>\n",
       "      <th>price</th>\n",
       "      <th>MRP</th>\n",
       "      <th>discount_percent</th>\n",
       "      <th>ratings</th>\n",
       "      <th>number_of_ratings</th>\n",
       "    </tr>\n",
       "  </thead>\n",
       "  <tbody>\n",
       "    <tr>\n",
       "      <th>0</th>\n",
       "      <td>WROGN</td>\n",
       "      <td>Men Loose Fit Cotton Jeans</td>\n",
       "      <td>1374.0</td>\n",
       "      <td>2499.0</td>\n",
       "      <td>0.45</td>\n",
       "      <td>4.2</td>\n",
       "      <td>57.0</td>\n",
       "    </tr>\n",
       "    <tr>\n",
       "      <th>1</th>\n",
       "      <td>Flying Machine</td>\n",
       "      <td>Men Slim Fit Jeans</td>\n",
       "      <td>1829.0</td>\n",
       "      <td>2999.0</td>\n",
       "      <td>0.39</td>\n",
       "      <td>4.6</td>\n",
       "      <td>5.0</td>\n",
       "    </tr>\n",
       "    <tr>\n",
       "      <th>2</th>\n",
       "      <td>Roadster</td>\n",
       "      <td>Men Pure Cotton Jeans</td>\n",
       "      <td>974.0</td>\n",
       "      <td>2499.0</td>\n",
       "      <td>0.61</td>\n",
       "      <td>3.6</td>\n",
       "      <td>1100.0</td>\n",
       "    </tr>\n",
       "    <tr>\n",
       "      <th>3</th>\n",
       "      <td>Bene Kleed</td>\n",
       "      <td>Relaxed Fit Denim Jeans</td>\n",
       "      <td>873.0</td>\n",
       "      <td>2299.0</td>\n",
       "      <td>0.62</td>\n",
       "      <td>4.0</td>\n",
       "      <td>4800.0</td>\n",
       "    </tr>\n",
       "    <tr>\n",
       "      <th>4</th>\n",
       "      <td>Levis</td>\n",
       "      <td>Men 511 Slim Fit Jeans</td>\n",
       "      <td>1478.0</td>\n",
       "      <td>2899.0</td>\n",
       "      <td>0.49</td>\n",
       "      <td>4.3</td>\n",
       "      <td>264.0</td>\n",
       "    </tr>\n",
       "  </tbody>\n",
       "</table>\n",
       "</div>"
      ],
      "text/plain": [
       "             name           pants_description   price     MRP  \\\n",
       "0           WROGN  Men Loose Fit Cotton Jeans  1374.0  2499.0   \n",
       "1  Flying Machine          Men Slim Fit Jeans  1829.0  2999.0   \n",
       "2        Roadster       Men Pure Cotton Jeans   974.0  2499.0   \n",
       "3      Bene Kleed     Relaxed Fit Denim Jeans   873.0  2299.0   \n",
       "4           Levis      Men 511 Slim Fit Jeans  1478.0  2899.0   \n",
       "\n",
       "   discount_percent  ratings  number_of_ratings  \n",
       "0              0.45      4.2               57.0  \n",
       "1              0.39      4.6                5.0  \n",
       "2              0.61      3.6             1100.0  \n",
       "3              0.62      4.0             4800.0  \n",
       "4              0.49      4.3              264.0  "
      ]
     },
     "execution_count": 8,
     "metadata": {},
     "output_type": "execute_result"
    }
   ],
   "source": [
    "df=df.rename(columns={\"brand_name\": \"name\"})\n",
    "df.head(5)"
   ]
  },
  {
   "cell_type": "code",
   "execution_count": 9,
   "id": "39380b8a",
   "metadata": {},
   "outputs": [
    {
     "name": "stdout",
     "output_type": "stream",
     "text": [
      "number of duplicate rows: (17047, 7)\n"
     ]
    }
   ],
   "source": [
    "duplicate_rows_df = df[df.duplicated()]\n",
    "print(\"number of duplicate rows:\",duplicate_rows_df.shape)"
   ]
  },
  {
   "cell_type": "code",
   "execution_count": 10,
   "id": "e2a674c4",
   "metadata": {},
   "outputs": [
    {
     "data": {
      "text/html": [
       "<div>\n",
       "<style scoped>\n",
       "    .dataframe tbody tr th:only-of-type {\n",
       "        vertical-align: middle;\n",
       "    }\n",
       "\n",
       "    .dataframe tbody tr th {\n",
       "        vertical-align: top;\n",
       "    }\n",
       "\n",
       "    .dataframe thead th {\n",
       "        text-align: right;\n",
       "    }\n",
       "</style>\n",
       "<table border=\"1\" class=\"dataframe\">\n",
       "  <thead>\n",
       "    <tr style=\"text-align: right;\">\n",
       "      <th></th>\n",
       "      <th>name</th>\n",
       "      <th>pants_description</th>\n",
       "      <th>price</th>\n",
       "      <th>MRP</th>\n",
       "      <th>discount_percent</th>\n",
       "      <th>ratings</th>\n",
       "      <th>number_of_ratings</th>\n",
       "    </tr>\n",
       "  </thead>\n",
       "  <tbody>\n",
       "    <tr>\n",
       "      <th>0</th>\n",
       "      <td>WROGN</td>\n",
       "      <td>Men Loose Fit Cotton Jeans</td>\n",
       "      <td>1374.0</td>\n",
       "      <td>2499.0</td>\n",
       "      <td>0.45</td>\n",
       "      <td>4.2</td>\n",
       "      <td>57.0</td>\n",
       "    </tr>\n",
       "    <tr>\n",
       "      <th>1</th>\n",
       "      <td>Flying Machine</td>\n",
       "      <td>Men Slim Fit Jeans</td>\n",
       "      <td>1829.0</td>\n",
       "      <td>2999.0</td>\n",
       "      <td>0.39</td>\n",
       "      <td>4.6</td>\n",
       "      <td>5.0</td>\n",
       "    </tr>\n",
       "    <tr>\n",
       "      <th>2</th>\n",
       "      <td>Roadster</td>\n",
       "      <td>Men Pure Cotton Jeans</td>\n",
       "      <td>974.0</td>\n",
       "      <td>2499.0</td>\n",
       "      <td>0.61</td>\n",
       "      <td>3.6</td>\n",
       "      <td>1100.0</td>\n",
       "    </tr>\n",
       "    <tr>\n",
       "      <th>3</th>\n",
       "      <td>Bene Kleed</td>\n",
       "      <td>Relaxed Fit Denim Jeans</td>\n",
       "      <td>873.0</td>\n",
       "      <td>2299.0</td>\n",
       "      <td>0.62</td>\n",
       "      <td>4.0</td>\n",
       "      <td>4800.0</td>\n",
       "    </tr>\n",
       "    <tr>\n",
       "      <th>4</th>\n",
       "      <td>Levis</td>\n",
       "      <td>Men 511 Slim Fit Jeans</td>\n",
       "      <td>1478.0</td>\n",
       "      <td>2899.0</td>\n",
       "      <td>0.49</td>\n",
       "      <td>4.3</td>\n",
       "      <td>264.0</td>\n",
       "    </tr>\n",
       "  </tbody>\n",
       "</table>\n",
       "</div>"
      ],
      "text/plain": [
       "             name           pants_description   price     MRP  \\\n",
       "0           WROGN  Men Loose Fit Cotton Jeans  1374.0  2499.0   \n",
       "1  Flying Machine          Men Slim Fit Jeans  1829.0  2999.0   \n",
       "2        Roadster       Men Pure Cotton Jeans   974.0  2499.0   \n",
       "3      Bene Kleed     Relaxed Fit Denim Jeans   873.0  2299.0   \n",
       "4           Levis      Men 511 Slim Fit Jeans  1478.0  2899.0   \n",
       "\n",
       "   discount_percent  ratings  number_of_ratings  \n",
       "0              0.45      4.2               57.0  \n",
       "1              0.39      4.6                5.0  \n",
       "2              0.61      3.6             1100.0  \n",
       "3              0.62      4.0             4800.0  \n",
       "4              0.49      4.3              264.0  "
      ]
     },
     "execution_count": 10,
     "metadata": {},
     "output_type": "execute_result"
    }
   ],
   "source": [
    "df=df.drop_duplicates()\n",
    "df.head()"
   ]
  },
  {
   "cell_type": "code",
   "execution_count": 11,
   "id": "306200df",
   "metadata": {},
   "outputs": [
    {
     "name": "stdout",
     "output_type": "stream",
     "text": [
      "name                 0\n",
      "pants_description    0\n",
      "price                0\n",
      "MRP                  0\n",
      "discount_percent     0\n",
      "ratings              0\n",
      "number_of_ratings    0\n",
      "dtype: int64\n"
     ]
    }
   ],
   "source": [
    "print(df.isnull().sum())"
   ]
  },
  {
   "cell_type": "code",
   "execution_count": 12,
   "id": "38692b49",
   "metadata": {},
   "outputs": [],
   "source": [
    "import seaborn as sns"
   ]
  },
  {
   "cell_type": "code",
   "execution_count": 13,
   "id": "9c2b350f",
   "metadata": {},
   "outputs": [
    {
     "data": {
      "text/plain": [
       "<Axes: xlabel='price'>"
      ]
     },
     "execution_count": 13,
     "metadata": {},
     "output_type": "execute_result"
    },
    {
     "data": {
      "image/png": "[encoded data removed]",
      "text/plain": [
       "<Figure size 640x480 with 1 Axes>"
      ]
     },
     "metadata": {},
     "output_type": "display_data"
    }
   ],
   "source": [
    "sns.boxplot(x=df['price'])"
   ]
  },
  {
   "cell_type": "code",
   "execution_count": null,
   "id": "7f165ecd",
   "metadata": {},
   "outputs": [
    {
     "name": "stdout",
     "output_type": "stream",
     "text": [
      "930.0\n"
     ]
    }
   ],
   "source": [
    "Q1=df['price'].quantile(0.25)\n",
    "Q2=df['price'].quantile(0.50)\n",
    "Q3=df['price'].quantile(0.75)\n",
    "IQR=Q3-Q1\n",
    "print(IQR)\n",
    "\n"
   ]
  }
 ],
 "metadata": {
  "kernelspec": {
   "display_name": "Python 3",
   "language": "python",
   "name": "python3"
  },
  "language_info": {
   "codemirror_mode": {
    "name": "ipython",
    "version": 3
   },
   "file_extension": ".py",
   "mimetype": "text/x-python",
   "name": "python",
   "nbconvert_exporter": "python",
   "pygments_lexer": "ipython3",
   "version": "3.13.7"
  }
 },
 "nbformat": 4,
 "nbformat_minor": 5
}
