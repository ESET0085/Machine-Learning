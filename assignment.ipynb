{
 "cells": [
  {
   "cell_type": "code",
   "execution_count": 1,
   "id": "0fde7c26",
   "metadata": {},
   "outputs": [],
   "source": [
    "import numpy as np\n",
    "import pandas as pd"
   ]
  },
  {
   "cell_type": "code",
   "execution_count": 5,
   "id": "f9082270",
   "metadata": {},
   "outputs": [
    {
     "name": "stdout",
     "output_type": "stream",
     "text": [
      "Original NumPy Array:\n",
      "[[1 2 3]\n",
      " [4 5 6]\n",
      " [7 8 9]]\n",
      "\n",
      "New NumPy Array (elements multiplied by 2):\n",
      "[[ 2  4  6]\n",
      " [ 8 10 12]\n",
      " [14 16 18]]\n"
     ]
    }
   ],
   "source": [
    "original_array = np.array([[1, 2, 3],\n",
    "                           [4, 5, 6],\n",
    "                           [7, 8, 9]])\n",
    "\n",
    "\n",
    "print(\"Original NumPy Array:\")\n",
    "print(original_array)\n",
    "\n",
    "new_array = original_array * 2\n",
    "\n",
    "print(\"\\nNew NumPy Array (elements multiplied by 2):\")\n",
    "print(new_array)"
   ]
  },
  {
   "cell_type": "code",
   "execution_count": 7,
   "id": "f1358a99",
   "metadata": {},
   "outputs": [
    {
     "name": "stdout",
     "output_type": "stream",
     "text": [
      "\n",
      "Original Products DataFrame:\n",
      "  product_name  price  stock_quantity\n",
      "0       Laptop   1200              75\n",
      "1        Mouse     25             120\n",
      "2     Keyboard     75              40\n",
      "3      Monitor    300              60\n",
      "4       Webcam     50              90\n"
     ]
    }
   ],
   "source": [
    "product_data = {\n",
    "    'product_name': ['Laptop', 'Mouse', 'Keyboard', 'Monitor', 'Webcam'],\n",
    "    'price': [1200, 25, 75, 300, 50],\n",
    "    'stock_quantity': [75, 120, 40, 60, 90]\n",
    "}\n",
    "products_df = pd.DataFrame(product_data)\n",
    "\n",
    "print(\"\\nOriginal Products DataFrame:\")\n",
    "print(products_df)\n"
   ]
  },
  {
   "cell_type": "code",
   "execution_count": null,
   "id": "28889cf8",
   "metadata": {},
   "outputs": [
    {
     "name": "stdout",
     "output_type": "stream",
     "text": [
      "\n",
      "Products with Stock Quantity greater than 50:\n",
      "  product_name  price  stock_quantity\n",
      "0       Laptop   1200              75\n",
      "1        Mouse     25             120\n",
      "3      Monitor    300              60\n",
      "4       Webcam     50              90\n"
     ]
    }
   ],
   "source": [
    "high_stock_products = products_df[products_df['stock_quantity'] > 50]\n",
    "\n",
    "print(\"\\nProducts with Stock Quantity greater than 50:\")\n",
    "print(high_stock_products)\n",
    "\n"
   ]
  }
 ],
 "metadata": {
  "kernelspec": {
   "display_name": "Python 3",
   "language": "python",
   "name": "python3"
  },
  "language_info": {
   "codemirror_mode": {
    "name": "ipython",
    "version": 3
   },
   "file_extension": ".py",
   "mimetype": "text/x-python",
   "name": "python",
   "nbconvert_exporter": "python",
   "pygments_lexer": "ipython3",
   "version": "3.13.7"
  }
 },
 "nbformat": 4,
 "nbformat_minor": 5
}
